{
 "cells": [
  {
   "cell_type": "markdown",
   "metadata": {},
   "source": [
    "# Data Pre Processing"
   ]
  },
  {
   "cell_type": "markdown",
   "metadata": {},
   "source": [
    "## Read in data"
   ]
  },
  {
   "cell_type": "code",
   "execution_count": 9,
   "metadata": {
    "collapsed": true
   },
   "outputs": [],
   "source": [
    "# Packages\n",
    "import pandas as pd\n",
    "import numpy as np\n",
    "import datetime\n",
    "import re"
   ]
  },
  {
   "cell_type": "code",
   "execution_count": 10,
   "metadata": {},
   "outputs": [],
   "source": [
    "tesla = pd.read_csv('../Data/Tesla_tweets.csv')\n",
    "tesla_hash = pd.read_csv('../Data/@Tesla_tweets.csv')"
   ]
  },
  {
   "cell_type": "code",
   "execution_count": 11,
   "metadata": {},
   "outputs": [
    {
     "name": "stdout",
     "output_type": "stream",
     "text": [
      "<class 'pandas.core.frame.DataFrame'>\n",
      "RangeIndex: 3228 entries, 0 to 3227\n",
      "Data columns (total 3 columns):\n",
      "id            3228 non-null int64\n",
      "created_at    3228 non-null object\n",
      "text          3228 non-null object\n",
      "dtypes: int64(1), object(2)\n",
      "memory usage: 75.7+ KB\n"
     ]
    }
   ],
   "source": [
    "tesla.info()"
   ]
  },
  {
   "cell_type": "code",
   "execution_count": 12,
   "metadata": {},
   "outputs": [
    {
     "data": {
      "text/html": [
       "<div>\n",
       "<style>\n",
       "    .dataframe thead tr:only-child th {\n",
       "        text-align: right;\n",
       "    }\n",
       "\n",
       "    .dataframe thead th {\n",
       "        text-align: left;\n",
       "    }\n",
       "\n",
       "    .dataframe tbody tr th {\n",
       "        vertical-align: top;\n",
       "    }\n",
       "</style>\n",
       "<table border=\"1\" class=\"dataframe\">\n",
       "  <thead>\n",
       "    <tr style=\"text-align: right;\">\n",
       "      <th></th>\n",
       "      <th>id</th>\n",
       "      <th>created_at</th>\n",
       "      <th>text</th>\n",
       "    </tr>\n",
       "  </thead>\n",
       "  <tbody>\n",
       "    <tr>\n",
       "      <th>0</th>\n",
       "      <td>1009896570928521216</td>\n",
       "      <td>2018-06-21 20:31:20</td>\n",
       "      <td>b'@Barraco_Bama accelerator pedal'</td>\n",
       "    </tr>\n",
       "    <tr>\n",
       "      <th>1</th>\n",
       "      <td>1009891272440492032</td>\n",
       "      <td>2018-06-21 20:10:16</td>\n",
       "      <td>b'@A_MrNoodle Model X P100D'</td>\n",
       "    </tr>\n",
       "    <tr>\n",
       "      <th>2</th>\n",
       "      <td>1009890165907582976</td>\n",
       "      <td>2018-06-21 20:05:53</td>\n",
       "      <td>b'\\xe2\\x98\\x80\\xef\\xb8\\x8f https://t.co/J6mdP7...</td>\n",
       "    </tr>\n",
       "    <tr>\n",
       "      <th>3</th>\n",
       "      <td>1009837611932737537</td>\n",
       "      <td>2018-06-21 16:37:03</td>\n",
       "      <td>b'@Polintweet Yes - two Powerwalls will give y...</td>\n",
       "    </tr>\n",
       "    <tr>\n",
       "      <th>4</th>\n",
       "      <td>1009616153281323008</td>\n",
       "      <td>2018-06-21 01:57:03</td>\n",
       "      <td>b'@thegreat35t we support the protestors and a...</td>\n",
       "    </tr>\n",
       "  </tbody>\n",
       "</table>\n",
       "</div>"
      ],
      "text/plain": [
       "                    id           created_at  \\\n",
       "0  1009896570928521216  2018-06-21 20:31:20   \n",
       "1  1009891272440492032  2018-06-21 20:10:16   \n",
       "2  1009890165907582976  2018-06-21 20:05:53   \n",
       "3  1009837611932737537  2018-06-21 16:37:03   \n",
       "4  1009616153281323008  2018-06-21 01:57:03   \n",
       "\n",
       "                                                text  \n",
       "0                 b'@Barraco_Bama accelerator pedal'  \n",
       "1                       b'@A_MrNoodle Model X P100D'  \n",
       "2  b'\\xe2\\x98\\x80\\xef\\xb8\\x8f https://t.co/J6mdP7...  \n",
       "3  b'@Polintweet Yes - two Powerwalls will give y...  \n",
       "4  b'@thegreat35t we support the protestors and a...  "
      ]
     },
     "execution_count": 12,
     "metadata": {},
     "output_type": "execute_result"
    }
   ],
   "source": [
    "tesla.head()"
   ]
  },
  {
   "cell_type": "markdown",
   "metadata": {},
   "source": [
    "## Pre-Processing: Getting Necessary Variables"
   ]
  },
  {
   "cell_type": "markdown",
   "metadata": {},
   "source": [
    "First we deal with the 'tesla' data. There are several things that we should notice/want to achieve:\n",
    "\n",
    "1. the \"created_at\" variable is not a datetime object \n",
    "\n",
    "2. We need the year-month-day extracted\n",
    "\n",
    "3. We need a dummy variable to indicate whether a tweet is extracted from a weekend where stock market is closed.\n",
    "\n",
    "4. We need avariable to count the number of tweets each day"
   ]
  },
  {
   "cell_type": "code",
   "execution_count": 13,
   "metadata": {},
   "outputs": [],
   "source": [
    "# Convert 'created_at' to datetime\n",
    "tesla['created_at'] = tesla['created_at'].apply(lambda x: datetime.datetime.strptime(x,'%Y-%m-%d %H:%M:%S'))\n",
    "\n",
    "# Define a function to extract the ymd information\n",
    "def get_ymd(date_time):\n",
    "    \"\"\"\n",
    "    This function takes in a date_time value and extract the year,month,date value out of it.\n",
    "    \n",
    "    ---Parameters\n",
    "    date_time: the date time value\n",
    "    \n",
    "    ---Returns\n",
    "    a datetime variable in the format of year-month-day\n",
    "    \n",
    "    \"\"\"\n",
    "    \n",
    "    import datetime\n",
    "    import numpy as np\n",
    "    \n",
    "    YR,MO,DY = None, None, None\n",
    "    \n",
    "    YR = str(date_time.year)\n",
    "    MO = str(date_time.month)\n",
    "    DY = str(date_time.day)\n",
    "    \n",
    "    if((sum(np.array([YR,MO,DY]) == None)) > 0):\n",
    "        print('Not sufficient Information. The given date should contain year, month and day')\n",
    "        return\n",
    "    \n",
    "    out = YR + '-' + MO + '-' + DY\n",
    "    \n",
    "    return datetime.datetime.strptime(out,'%Y-%m-%d')\n",
    "\n",
    "# Get ymd\n",
    "tesla['ymd'] = tesla['created_at'].apply(lambda x: get_ymd(x))"
   ]
  },
  {
   "cell_type": "code",
   "execution_count": 16,
   "metadata": {},
   "outputs": [
    {
     "data": {
      "text/html": [
       "<div>\n",
       "<style>\n",
       "    .dataframe thead tr:only-child th {\n",
       "        text-align: right;\n",
       "    }\n",
       "\n",
       "    .dataframe thead th {\n",
       "        text-align: left;\n",
       "    }\n",
       "\n",
       "    .dataframe tbody tr th {\n",
       "        vertical-align: top;\n",
       "    }\n",
       "</style>\n",
       "<table border=\"1\" class=\"dataframe\">\n",
       "  <thead>\n",
       "    <tr style=\"text-align: right;\">\n",
       "      <th></th>\n",
       "      <th>id</th>\n",
       "      <th>created_at</th>\n",
       "      <th>text</th>\n",
       "      <th>ymd</th>\n",
       "    </tr>\n",
       "  </thead>\n",
       "  <tbody>\n",
       "    <tr>\n",
       "      <th>0</th>\n",
       "      <td>1009896570928521216</td>\n",
       "      <td>2018-06-21 20:31:20</td>\n",
       "      <td>b'@Barraco_Bama accelerator pedal'</td>\n",
       "      <td>2018-06-21</td>\n",
       "    </tr>\n",
       "    <tr>\n",
       "      <th>1</th>\n",
       "      <td>1009891272440492032</td>\n",
       "      <td>2018-06-21 20:10:16</td>\n",
       "      <td>b'@A_MrNoodle Model X P100D'</td>\n",
       "      <td>2018-06-21</td>\n",
       "    </tr>\n",
       "    <tr>\n",
       "      <th>2</th>\n",
       "      <td>1009890165907582976</td>\n",
       "      <td>2018-06-21 20:05:53</td>\n",
       "      <td>b'\\xe2\\x98\\x80\\xef\\xb8\\x8f https://t.co/J6mdP7...</td>\n",
       "      <td>2018-06-21</td>\n",
       "    </tr>\n",
       "    <tr>\n",
       "      <th>3</th>\n",
       "      <td>1009837611932737537</td>\n",
       "      <td>2018-06-21 16:37:03</td>\n",
       "      <td>b'@Polintweet Yes - two Powerwalls will give y...</td>\n",
       "      <td>2018-06-21</td>\n",
       "    </tr>\n",
       "    <tr>\n",
       "      <th>4</th>\n",
       "      <td>1009616153281323008</td>\n",
       "      <td>2018-06-21 01:57:03</td>\n",
       "      <td>b'@thegreat35t we support the protestors and a...</td>\n",
       "      <td>2018-06-21</td>\n",
       "    </tr>\n",
       "  </tbody>\n",
       "</table>\n",
       "</div>"
      ],
      "text/plain": [
       "                    id          created_at  \\\n",
       "0  1009896570928521216 2018-06-21 20:31:20   \n",
       "1  1009891272440492032 2018-06-21 20:10:16   \n",
       "2  1009890165907582976 2018-06-21 20:05:53   \n",
       "3  1009837611932737537 2018-06-21 16:37:03   \n",
       "4  1009616153281323008 2018-06-21 01:57:03   \n",
       "\n",
       "                                                text        ymd  \n",
       "0                 b'@Barraco_Bama accelerator pedal' 2018-06-21  \n",
       "1                       b'@A_MrNoodle Model X P100D' 2018-06-21  \n",
       "2  b'\\xe2\\x98\\x80\\xef\\xb8\\x8f https://t.co/J6mdP7... 2018-06-21  \n",
       "3  b'@Polintweet Yes - two Powerwalls will give y... 2018-06-21  \n",
       "4  b'@thegreat35t we support the protestors and a... 2018-06-21  "
      ]
     },
     "execution_count": 16,
     "metadata": {},
     "output_type": "execute_result"
    }
   ],
   "source": [
    "tesla.head()"
   ]
  },
  {
   "cell_type": "markdown",
   "metadata": {},
   "source": [
    "Next we will calculate the tweet count "
   ]
  },
  {
   "cell_type": "code",
   "execution_count": 56,
   "metadata": {},
   "outputs": [
    {
     "data": {
      "text/html": [
       "<div>\n",
       "<style>\n",
       "    .dataframe thead tr:only-child th {\n",
       "        text-align: right;\n",
       "    }\n",
       "\n",
       "    .dataframe thead th {\n",
       "        text-align: left;\n",
       "    }\n",
       "\n",
       "    .dataframe tbody tr th {\n",
       "        vertical-align: top;\n",
       "    }\n",
       "</style>\n",
       "<table border=\"1\" class=\"dataframe\">\n",
       "  <thead>\n",
       "    <tr style=\"text-align: right;\">\n",
       "      <th></th>\n",
       "      <th>ymd</th>\n",
       "      <th>count</th>\n",
       "    </tr>\n",
       "  </thead>\n",
       "  <tbody>\n",
       "    <tr>\n",
       "      <th>0</th>\n",
       "      <td>2014-03-06</td>\n",
       "      <td>2</td>\n",
       "    </tr>\n",
       "    <tr>\n",
       "      <th>1</th>\n",
       "      <td>2014-03-07</td>\n",
       "      <td>17</td>\n",
       "    </tr>\n",
       "    <tr>\n",
       "      <th>2</th>\n",
       "      <td>2014-03-08</td>\n",
       "      <td>4</td>\n",
       "    </tr>\n",
       "    <tr>\n",
       "      <th>3</th>\n",
       "      <td>2014-03-09</td>\n",
       "      <td>1</td>\n",
       "    </tr>\n",
       "    <tr>\n",
       "      <th>4</th>\n",
       "      <td>2014-03-10</td>\n",
       "      <td>11</td>\n",
       "    </tr>\n",
       "  </tbody>\n",
       "</table>\n",
       "</div>"
      ],
      "text/plain": [
       "         ymd  count\n",
       "0 2014-03-06      2\n",
       "1 2014-03-07     17\n",
       "2 2014-03-08      4\n",
       "3 2014-03-09      1\n",
       "4 2014-03-10     11"
      ]
     },
     "execution_count": 56,
     "metadata": {},
     "output_type": "execute_result"
    }
   ],
   "source": [
    "tweet_count = tesla[['ymd','id']].groupby('ymd').nunique()\n",
    "tweet_count = tweet_count[['id']].reset_index().sort_values('ymd')\n",
    "tweet_count.columns = ['ymd','count']\n",
    "tweet_count.head()"
   ]
  },
  {
   "cell_type": "code",
   "execution_count": 59,
   "metadata": {},
   "outputs": [
    {
     "data": {
      "text/html": [
       "<div>\n",
       "<style>\n",
       "    .dataframe thead tr:only-child th {\n",
       "        text-align: right;\n",
       "    }\n",
       "\n",
       "    .dataframe thead th {\n",
       "        text-align: left;\n",
       "    }\n",
       "\n",
       "    .dataframe tbody tr th {\n",
       "        vertical-align: top;\n",
       "    }\n",
       "</style>\n",
       "<table border=\"1\" class=\"dataframe\">\n",
       "  <thead>\n",
       "    <tr style=\"text-align: right;\">\n",
       "      <th></th>\n",
       "      <th>id</th>\n",
       "      <th>created_at</th>\n",
       "      <th>text</th>\n",
       "      <th>ymd</th>\n",
       "      <th>count</th>\n",
       "    </tr>\n",
       "  </thead>\n",
       "  <tbody>\n",
       "    <tr>\n",
       "      <th>0</th>\n",
       "      <td>1009896570928521216</td>\n",
       "      <td>2018-06-21 20:31:20</td>\n",
       "      <td>b'@Barraco_Bama accelerator pedal'</td>\n",
       "      <td>2018-06-21</td>\n",
       "      <td>6</td>\n",
       "    </tr>\n",
       "    <tr>\n",
       "      <th>1</th>\n",
       "      <td>1009891272440492032</td>\n",
       "      <td>2018-06-21 20:10:16</td>\n",
       "      <td>b'@A_MrNoodle Model X P100D'</td>\n",
       "      <td>2018-06-21</td>\n",
       "      <td>6</td>\n",
       "    </tr>\n",
       "    <tr>\n",
       "      <th>2</th>\n",
       "      <td>1009890165907582976</td>\n",
       "      <td>2018-06-21 20:05:53</td>\n",
       "      <td>b'\\xe2\\x98\\x80\\xef\\xb8\\x8f https://t.co/J6mdP7...</td>\n",
       "      <td>2018-06-21</td>\n",
       "      <td>6</td>\n",
       "    </tr>\n",
       "    <tr>\n",
       "      <th>3</th>\n",
       "      <td>1009837611932737537</td>\n",
       "      <td>2018-06-21 16:37:03</td>\n",
       "      <td>b'@Polintweet Yes - two Powerwalls will give y...</td>\n",
       "      <td>2018-06-21</td>\n",
       "      <td>6</td>\n",
       "    </tr>\n",
       "    <tr>\n",
       "      <th>4</th>\n",
       "      <td>1009616153281323008</td>\n",
       "      <td>2018-06-21 01:57:03</td>\n",
       "      <td>b'@thegreat35t we support the protestors and a...</td>\n",
       "      <td>2018-06-21</td>\n",
       "      <td>6</td>\n",
       "    </tr>\n",
       "  </tbody>\n",
       "</table>\n",
       "</div>"
      ],
      "text/plain": [
       "                    id          created_at  \\\n",
       "0  1009896570928521216 2018-06-21 20:31:20   \n",
       "1  1009891272440492032 2018-06-21 20:10:16   \n",
       "2  1009890165907582976 2018-06-21 20:05:53   \n",
       "3  1009837611932737537 2018-06-21 16:37:03   \n",
       "4  1009616153281323008 2018-06-21 01:57:03   \n",
       "\n",
       "                                                text        ymd  count  \n",
       "0                 b'@Barraco_Bama accelerator pedal' 2018-06-21      6  \n",
       "1                       b'@A_MrNoodle Model X P100D' 2018-06-21      6  \n",
       "2  b'\\xe2\\x98\\x80\\xef\\xb8\\x8f https://t.co/J6mdP7... 2018-06-21      6  \n",
       "3  b'@Polintweet Yes - two Powerwalls will give y... 2018-06-21      6  \n",
       "4  b'@thegreat35t we support the protestors and a... 2018-06-21      6  "
      ]
     },
     "execution_count": 59,
     "metadata": {},
     "output_type": "execute_result"
    }
   ],
   "source": [
    "tb1 = pd.merge(tesla,tweet_count,how = 'left',on = 'ymd')\n",
    "tb1.head()"
   ]
  },
  {
   "cell_type": "code",
   "execution_count": null,
   "metadata": {
    "collapsed": true
   },
   "outputs": [],
   "source": []
  }
 ],
 "metadata": {
  "kernelspec": {
   "display_name": "Python 3",
   "language": "python",
   "name": "python3"
  },
  "language_info": {
   "codemirror_mode": {
    "name": "ipython",
    "version": 3
   },
   "file_extension": ".py",
   "mimetype": "text/x-python",
   "name": "python",
   "nbconvert_exporter": "python",
   "pygments_lexer": "ipython3",
   "version": "3.6.2"
  }
 },
 "nbformat": 4,
 "nbformat_minor": 2
}
