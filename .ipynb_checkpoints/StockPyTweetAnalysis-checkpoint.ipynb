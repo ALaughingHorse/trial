{
 "cells": [
  {
   "cell_type": "code",
   "execution_count": 1,
   "metadata": {},
   "outputs": [],
   "source": [
    "import tweepy\n",
    "from vaderSentiment.vaderSentiment import SentimentIntensityAnalyzer"
   ]
  },
  {
   "cell_type": "code",
   "execution_count": 2,
   "metadata": {},
   "outputs": [],
   "source": [
    "analyzer = SentimentIntensityAnalyzer()\n",
    "consumer_key = \"abX9ElrE1Rfc5buSzLvTYc2nF\"\n",
    "consumer_secret = \"LunikNkSb7wLCeeRGgNty2Mr8CogKQF3OHk7ICV8BEJsFt2Gcp\"\n",
    "access_token = \"616460006-CmHMg6ID8j1J2qZ3lqmwh5KpHjVr9gZUnvcTE2Jl\"\n",
    "access_token_secret = \"VLiavjn8lJRrI1RUYDG5Gsc0LUSdQMuNNtZZuWwAsHaWY\""
   ]
  },
  {
   "cell_type": "code",
   "execution_count": 3,
   "metadata": {},
   "outputs": [],
   "source": [
    "auth = tweepy.OAuthHandler(consumer_key, consumer_secret)\n",
    "auth.set_access_token(access_token, access_token_secret)\n",
    "api = tweepy.API(auth, parser=tweepy.parsers.JSONParser())"
   ]
  },
  {
   "cell_type": "code",
   "execution_count": 8,
   "metadata": {},
   "outputs": [],
   "source": [
    "public_tweets = api.search(q='Tesla',)"
   ]
  },
  {
   "cell_type": "code",
   "execution_count": 13,
   "metadata": {},
   "outputs": [
    {
     "name": "stdout",
     "output_type": "stream",
     "text": [
      "Thu Jun 21 22:00:40 +0000 2018\n",
      "**************************************************\n",
      "The Good Billionaire uses the mass shooting epidemic to try to smear a whistle blower. https://t.co/jHlrxhEA4B\n",
      "Thu Jun 21 22:00:36 +0000 2018\n",
      "**************************************************\n",
      "RT @JosephMasepoes: One of the most surprising things I learned in the Storm is how the cabal hijacked Nikola Tesla's work and used it to c…\n",
      "Thu Jun 21 22:00:33 +0000 2018\n",
      "**************************************************\n",
      "Elon sigue dando batalla.\n",
      "https://t.co/nhu5WswSm4\n",
      "Thu Jun 21 22:00:28 +0000 2018\n",
      "**************************************************\n",
      "Traveling for Thud so I'll be in Fremont Assembly for a few days, then back to Tesla at Buttonwillow raceway driving a Model X.\n",
      "Thu Jun 21 22:00:27 +0000 2018\n",
      "**************************************************\n",
      "TIRED OF PAYING 4 GAS? DRIVE TESLA MOTORS! VISIT https://t.co/BijdzmRV7Z… https://t.co/lnyGJhWmix\n",
      "Thu Jun 21 22:00:23 +0000 2018\n",
      "**************************************************\n",
      "@shelbygraces Only if it's a Tesla\n",
      "Thu Jun 21 22:00:23 +0000 2018\n",
      "**************************************************\n",
      "Elon Musk gets into it with former Tesla employee he sued for alleged data hacking https://t.co/GdsvNBuloz\n",
      "Thu Jun 21 22:00:21 +0000 2018\n",
      "**************************************************\n",
      "Tesla sues ex-employee for hacking and theft. But he says he's a whistleblower\n",
      "https://t.co/lTqENpCQXY\n",
      "Thu Jun 21 22:00:21 +0000 2018\n",
      "**************************************************\n",
      "RT @JosephMasepoes: One of the most surprising things I learned in the Storm is how the cabal hijacked Nikola Tesla's work and used it to c…\n",
      "Thu Jun 21 22:00:20 +0000 2018\n",
      "**************************************************\n",
      "Ever wanted  to get “one” over on the one percent? Now is your chance!\n",
      "It will only cost you around $347\n",
      "The price… https://t.co/g4OsKe4XlP\n",
      "Thu Jun 21 22:00:17 +0000 2018\n",
      "**************************************************\n",
      "... and we thought APT was passe. \"Tesla fingers former Gigafactory hand as alleged blueprint-leaking sabotage mast… https://t.co/OGjsS0bVHj\n",
      "Thu Jun 21 22:00:12 +0000 2018\n",
      "**************************************************\n",
      "#Tesla #ModelX #TeslaModelX https://t.co/iZblbBAZ5Q\n",
      "Thu Jun 21 22:00:11 +0000 2018\n",
      "**************************************************\n",
      "Tesla enhances security following report of ex-employee threat https://t.co/O3UIdxhdUF - \n",
      "\n",
      "                      Ja… https://t.co/aGMi4mkJel\n",
      "Thu Jun 21 22:00:08 +0000 2018\n",
      "**************************************************\n",
      "RT @canwaves: cumhur ittifakına oy verecek bazı ünlüler;\n",
      "-alişan\n",
      "-arda turan\n",
      "-nihat doğan\n",
      "-ibrahim tatlıses\n",
      "-kenan sofuoğlu\n",
      "\n",
      "cumhur ittifak…\n",
      "Thu Jun 21 22:00:07 +0000 2018\n",
      "**************************************************\n",
      "Key Words: Alleged Tesla saboteur says ‘Elon was lying to investors;’ Tesla says he threatened violence https://t.co/zZ5KNnfwyI #News\n"
     ]
    }
   ],
   "source": [
    "\n",
    "for tweet in public_tweets[\"statuses\"]:\n",
    "    print(tweet['created_at'])\n",
    "    print('*'*30)\n",
    "    print(tweet['text'])\n",
    "    print('-')"
   ]
  },
  {
   "cell_type": "code",
   "execution_count": null,
   "metadata": {},
   "outputs": [],
   "source": []
  }
 ],
 "metadata": {
  "kernelspec": {
   "display_name": "Python 3",
   "language": "python",
   "name": "python3"
  },
  "language_info": {
   "codemirror_mode": {
    "name": "ipython",
    "version": 3
   },
   "file_extension": ".py",
   "mimetype": "text/x-python",
   "name": "python",
   "nbconvert_exporter": "python",
   "pygments_lexer": "ipython3",
   "version": "3.6.4"
  }
 },
 "nbformat": 4,
 "nbformat_minor": 2
}
