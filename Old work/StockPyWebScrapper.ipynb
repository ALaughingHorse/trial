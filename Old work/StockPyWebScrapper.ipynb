{
 "cells": [
  {
   "cell_type": "code",
   "execution_count": 1,
   "metadata": {},
   "outputs": [],
   "source": [
    "from bs4 import BeautifulSoup\n",
    "import requests"
   ]
  },
  {
   "cell_type": "code",
   "execution_count": 2,
   "metadata": {},
   "outputs": [],
   "source": [
    "url = 'https://twitter.com/search?l=en&q=%22Tesla%22%20since%3A2017-01-01%20until%3A2017-12-31&src=typd'"
   ]
  },
  {
   "cell_type": "code",
   "execution_count": 3,
   "metadata": {},
   "outputs": [],
   "source": [
    "html = requests.get(url)"
   ]
  },
  {
   "cell_type": "code",
   "execution_count": 20,
   "metadata": {},
   "outputs": [],
   "source": [
    "soup = BeautifulSoup(html.text, 'lxml')"
   ]
  },
  {
   "cell_type": "code",
   "execution_count": 21,
   "metadata": {},
   "outputs": [],
   "source": [
    "results = soup.find_all('div',class_='js-stream-item')"
   ]
  },
  {
   "cell_type": "code",
   "execution_count": 22,
   "metadata": {},
   "outputs": [
    {
     "data": {
      "text/plain": [
       "[<div class=\"AdaptiveStreamUserGallery-user js-stream-item\" data-item-id=\"13298072\" data-item-type=\"user\" id=\"stream-item-user-13298072\" role=\"listitem\">\n",
       " <div class=\"ProfileCard js-actionable-user \" data-feedback-token=\"\" data-impression-id=\"\" data-screen-name=\"Tesla\" data-user-id=\"13298072\">\n",
       " <a aria-hidden=\"true\" class=\"ProfileCard-bg js-nav\" href=\"/Tesla\" style=\"\n",
       "     background-color: #C90000;\n",
       "     background-image: url(https://pbs.twimg.com/profile_banners/13298072/1475753303/600x200);\" tabindex=\"-1\">\n",
       " </a>\n",
       " <div class=\"ProfileCard-content\">\n",
       " <a aria-hidden=\"true\" class=\"ProfileCard-avatarLink js-nav js-tooltip\" href=\"/Tesla\" tabindex=\"-1\" title=\"Tesla\">\n",
       " <img alt=\"\" class=\"ProfileCard-avatarImage js-action-profile-avatar\" src=\"https://pbs.twimg.com/profile_images/489192650474414080/4RxZxsud_bigger.png\"/>\n",
       " </a>\n",
       " <div class=\"ProfileCard-actions\">\n",
       " <div class=\"ProfileCard-userActions with-rightCaret js-userActions\">\n",
       " <div class=\"UserActions UserActions--small u-textLeft\">\n",
       " <div class=\"user-actions btn-group not-following \" data-name=\"Tesla\" data-protected=\"false\" data-screen-name=\"Tesla\" data-user-id=\"13298072\">\n",
       " <span class=\"UserActions-moreActions u-inlineBlock\">\n",
       " <button class=\"js-tooltip unmute-button btn small plain-btn\" data-placement=\"top\" title=\"Unmute @Tesla\" type=\"button\">\n",
       " <span class=\"Icon Icon--muted Icon--medium\"><span class=\"visuallyhidden\">Unmute <span class=\"username u-dir u-textTruncate\" dir=\"ltr\">@<b>Tesla</b></span></span></span>\n",
       " </button><button class=\"first-load js-tooltip mute-button btn small plain-btn\" data-placement=\"top\" title=\"Mute @Tesla\" type=\"button\">\n",
       " <span class=\"Icon Icon--unmuted Icon--medium\"><span class=\"visuallyhidden\">Mute <span class=\"username u-dir u-textTruncate\" dir=\"ltr\">@<b>Tesla</b></span></span></span>\n",
       " </button></span><span class=\"user-actions-follow-button js-follow-btn follow-button\">\n",
       " <button class=\" EdgeButton EdgeButton--secondary EdgeButton--small button-text follow-text\" type=\"button\">\n",
       " <span aria-hidden=\"true\">Follow</span>\n",
       " <span class=\"u-hiddenVisually\">Follow <span class=\"username u-dir u-textTruncate\" dir=\"ltr\">@<b>Tesla</b></span></span>\n",
       " </button>\n",
       " <button class=\" EdgeButton EdgeButton--primary EdgeButton--small button-text following-text\" type=\"button\">\n",
       " <span aria-hidden=\"true\">Following</span>\n",
       " <span class=\"u-hiddenVisually\">Following <span class=\"username u-dir u-textTruncate\" dir=\"ltr\">@<b>Tesla</b></span></span>\n",
       " </button>\n",
       " <button class=\" EdgeButton EdgeButton--danger EdgeButton--small button-text unfollow-text\" type=\"button\">\n",
       " <span aria-hidden=\"true\">Unfollow</span>\n",
       " <span class=\"u-hiddenVisually\">Unfollow <span class=\"username u-dir u-textTruncate\" dir=\"ltr\">@<b>Tesla</b></span></span>\n",
       " </button>\n",
       " <button class=\" EdgeButton EdgeButton--invertedDanger EdgeButton--small button-text blocked-text\" type=\"button\">\n",
       " <span aria-hidden=\"true\">Blocked</span>\n",
       " <span class=\"u-hiddenVisually\">Blocked <span class=\"username u-dir u-textTruncate\" dir=\"ltr\">@<b>Tesla</b></span></span>\n",
       " </button>\n",
       " <button class=\" EdgeButton EdgeButton--danger EdgeButton--small button-text unblock-text\" type=\"button\">\n",
       " <span aria-hidden=\"true\">Unblock</span>\n",
       " <span class=\"u-hiddenVisually\">Unblock <span class=\"username u-dir u-textTruncate\" dir=\"ltr\">@<b>Tesla</b></span></span>\n",
       " </button>\n",
       " <button class=\" EdgeButton EdgeButton--secondary EdgeButton--small button-text pending-text\" type=\"button\">\n",
       " <span aria-hidden=\"true\">Pending</span>\n",
       " <span class=\"u-hiddenVisually\">Pending follow request from <span class=\"username u-dir u-textTruncate\" dir=\"ltr\">@<b>Tesla</b></span></span>\n",
       " </button>\n",
       " <button class=\" EdgeButton EdgeButton--secondary EdgeButton--small button-text cancel-text\" type=\"button\">\n",
       " <span aria-hidden=\"true\">Cancel</span>\n",
       " <span class=\"u-hiddenVisually\">Cancel your follow request to <span class=\"username u-dir u-textTruncate\" dir=\"ltr\">@<b>Tesla</b></span></span>\n",
       " </button>\n",
       " </span>\n",
       " </div>\n",
       " </div>\n",
       " </div>\n",
       " </div>\n",
       " <div class=\"ProfileCard-userFields\">\n",
       " <div class=\"ProfileNameTruncated account-group\">\n",
       " <div class=\"u-textTruncate u-inlineBlock ProfileNameTruncated-withBadges ProfileNameTruncated-withBadges--1\">\n",
       " <a class=\"fullname ProfileNameTruncated-link u-textInheritColor js-nav\" data-aria-label-part=\"\" href=\"/Tesla\">\n",
       "       Tesla</a></div><span class=\"UserBadges\"><span class=\"Icon Icon--verified\"><span class=\"u-hiddenVisually\">Verified account</span></span></span>\n",
       " </div>\n",
       " <span class=\"ProfileCard-screenname\">\n",
       " <a class=\"ProfileCard-screennameLink u-linkComplex js-nav\" data-aria-label-part=\"\" href=\"/Tesla\">\n",
       " <span class=\"username u-dir\" dir=\"ltr\">@<b class=\"u-linkComplex-target\">Tesla</b></span>\n",
       " </a><span>‏</span>\n",
       " </span>\n",
       " <p class=\"ProfileCard-bio u-dir js-ellipsis\" data-aria-label-part=\"\" dir=\"ltr\">Electric cars, giant batteries and solar</p>\n",
       " </div>\n",
       " </div>\n",
       " </div>\n",
       " </div>,\n",
       " <div class=\"AdaptiveStreamUserGallery-user js-stream-item\" data-item-id=\"17824922\" data-item-type=\"user\" id=\"stream-item-user-17824922\" role=\"listitem\">\n",
       " <div class=\"ProfileCard js-actionable-user \" data-feedback-token=\"\" data-impression-id=\"\" data-screen-name=\"solarcity\" data-user-id=\"17824922\">\n",
       " <a aria-hidden=\"true\" class=\"ProfileCard-bg js-nav\" href=\"/solarcity\" style=\"\n",
       "     background-color: #008852;\n",
       "     background-image: url(https://pbs.twimg.com/profile_banners/17824922/1477704932/600x200);\" tabindex=\"-1\">\n",
       " </a>\n",
       " <div class=\"ProfileCard-content\">\n",
       " <a aria-hidden=\"true\" class=\"ProfileCard-avatarLink js-nav js-tooltip\" href=\"/solarcity\" tabindex=\"-1\" title=\"SolarCity\">\n",
       " <img alt=\"\" class=\"ProfileCard-avatarImage js-action-profile-avatar\" src=\"https://pbs.twimg.com/profile_images/593431858685161472/P9Y-O-jP_bigger.jpg\"/>\n",
       " </a>\n",
       " <div class=\"ProfileCard-actions\">\n",
       " <div class=\"ProfileCard-userActions with-rightCaret js-userActions\">\n",
       " <div class=\"UserActions UserActions--small u-textLeft\">\n",
       " <div class=\"user-actions btn-group not-following protected\" data-name=\"SolarCity\" data-protected=\"true\" data-screen-name=\"solarcity\" data-user-id=\"17824922\">\n",
       " <span class=\"UserActions-moreActions u-inlineBlock\">\n",
       " <button class=\"js-tooltip unmute-button btn small plain-btn\" data-placement=\"top\" title=\"Unmute @solarcity\" type=\"button\">\n",
       " <span class=\"Icon Icon--muted Icon--medium\"><span class=\"visuallyhidden\">Unmute <span class=\"username u-dir u-textTruncate\" dir=\"ltr\">@<b>solarcity</b></span></span></span>\n",
       " </button><button class=\"first-load js-tooltip mute-button btn small plain-btn\" data-placement=\"top\" title=\"Mute @solarcity\" type=\"button\">\n",
       " <span class=\"Icon Icon--unmuted Icon--medium\"><span class=\"visuallyhidden\">Mute <span class=\"username u-dir u-textTruncate\" dir=\"ltr\">@<b>solarcity</b></span></span></span>\n",
       " </button></span><span class=\"user-actions-follow-button js-follow-btn follow-button\">\n",
       " <button class=\" EdgeButton EdgeButton--secondary EdgeButton--small button-text follow-text\" type=\"button\">\n",
       " <span aria-hidden=\"true\">Follow</span>\n",
       " <span class=\"u-hiddenVisually\">Follow <span class=\"username u-dir u-textTruncate\" dir=\"ltr\">@<b>solarcity</b></span></span>\n",
       " </button>\n",
       " <button class=\" EdgeButton EdgeButton--primary EdgeButton--small button-text following-text\" type=\"button\">\n",
       " <span aria-hidden=\"true\">Following</span>\n",
       " <span class=\"u-hiddenVisually\">Following <span class=\"username u-dir u-textTruncate\" dir=\"ltr\">@<b>solarcity</b></span></span>\n",
       " </button>\n",
       " <button class=\" EdgeButton EdgeButton--danger EdgeButton--small button-text unfollow-text\" type=\"button\">\n",
       " <span aria-hidden=\"true\">Unfollow</span>\n",
       " <span class=\"u-hiddenVisually\">Unfollow <span class=\"username u-dir u-textTruncate\" dir=\"ltr\">@<b>solarcity</b></span></span>\n",
       " </button>\n",
       " <button class=\" EdgeButton EdgeButton--invertedDanger EdgeButton--small button-text blocked-text\" type=\"button\">\n",
       " <span aria-hidden=\"true\">Blocked</span>\n",
       " <span class=\"u-hiddenVisually\">Blocked <span class=\"username u-dir u-textTruncate\" dir=\"ltr\">@<b>solarcity</b></span></span>\n",
       " </button>\n",
       " <button class=\" EdgeButton EdgeButton--danger EdgeButton--small button-text unblock-text\" type=\"button\">\n",
       " <span aria-hidden=\"true\">Unblock</span>\n",
       " <span class=\"u-hiddenVisually\">Unblock <span class=\"username u-dir u-textTruncate\" dir=\"ltr\">@<b>solarcity</b></span></span>\n",
       " </button>\n",
       " <button class=\" EdgeButton EdgeButton--secondary EdgeButton--small button-text pending-text\" type=\"button\">\n",
       " <span aria-hidden=\"true\">Pending</span>\n",
       " <span class=\"u-hiddenVisually\">Pending follow request from <span class=\"username u-dir u-textTruncate\" dir=\"ltr\">@<b>solarcity</b></span></span>\n",
       " </button>\n",
       " <button class=\" EdgeButton EdgeButton--secondary EdgeButton--small button-text cancel-text\" type=\"button\">\n",
       " <span aria-hidden=\"true\">Cancel</span>\n",
       " <span class=\"u-hiddenVisually\">Cancel your follow request to <span class=\"username u-dir u-textTruncate\" dir=\"ltr\">@<b>solarcity</b></span></span>\n",
       " </button>\n",
       " </span>\n",
       " </div>\n",
       " </div>\n",
       " </div>\n",
       " </div>\n",
       " <div class=\"ProfileCard-userFields\">\n",
       " <div class=\"ProfileNameTruncated account-group\">\n",
       " <div class=\"u-textTruncate u-inlineBlock ProfileNameTruncated-withBadges ProfileNameTruncated-withBadges--2\">\n",
       " <a class=\"fullname ProfileNameTruncated-link u-textInheritColor js-nav\" data-aria-label-part=\"\" href=\"/solarcity\">\n",
       "       SolarCity</a></div><span class=\"UserBadges\"><span class=\"Icon Icon--verified\"><span class=\"u-hiddenVisually\">Verified account</span></span><span class=\"Icon Icon--protected\"><span class=\"u-hidden\">Protected Tweets</span></span></span>\n",
       " </div>\n",
       " <span class=\"ProfileCard-screenname\">\n",
       " <a class=\"ProfileCard-screennameLink u-linkComplex js-nav\" data-aria-label-part=\"\" href=\"/solarcity\">\n",
       " <span class=\"username u-dir\" dir=\"ltr\">@<b class=\"u-linkComplex-target\">solarcity</b></span>\n",
       " </a><span>‏</span>\n",
       " </span>\n",
       " <p class=\"ProfileCard-bio u-dir js-ellipsis\" data-aria-label-part=\"\" dir=\"ltr\">Find us <a class=\"tweet-url twitter-atreply pretty-link\" data-mentioned-user-id=\"0\" dir=\"ltr\" href=\"/tesla\" rel=\"nofollow\"><s>@</s><b>tesla</b></a></p>\n",
       " </div>\n",
       " </div>\n",
       " </div>\n",
       " </div>]"
      ]
     },
     "execution_count": 22,
     "metadata": {},
     "output_type": "execute_result"
    }
   ],
   "source": [
    "results"
   ]
  },
  {
   "cell_type": "code",
   "execution_count": null,
   "metadata": {},
   "outputs": [],
   "source": []
  }
 ],
 "metadata": {
  "kernelspec": {
   "display_name": "Python 3",
   "language": "python",
   "name": "python3"
  },
  "language_info": {
   "codemirror_mode": {
    "name": "ipython",
    "version": 3
   },
   "file_extension": ".py",
   "mimetype": "text/x-python",
   "name": "python",
   "nbconvert_exporter": "python",
   "pygments_lexer": "ipython3",
   "version": "3.6.4"
  }
 },
 "nbformat": 4,
 "nbformat_minor": 2
}
